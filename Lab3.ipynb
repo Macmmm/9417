{
 "cells": [
  {
   "cell_type": "markdown",
   "metadata": {},
   "source": [
    "# Question 1: Text Classification using Multinomial Naive Bayes\n",
    "\n",
    "You are required to implement a multinomial naive bayes classifier to predict spam SMS.\n",
    "\n",
    "The training data is a set of SMS categoried into `spam` and `ham`."
   ]
  },
  {
   "cell_type": "code",
   "execution_count": 1,
   "metadata": {
    "collapsed": false,
    "scrolled": true
   },
   "outputs": [
    {
     "data": {
      "text/html": [
       "<div>\n",
       "<table border=\"1\" class=\"dataframe\">\n",
       "  <thead>\n",
       "    <tr style=\"text-align: right;\">\n",
       "      <th></th>\n",
       "      <th>category</th>\n",
       "      <th>text</th>\n",
       "    </tr>\n",
       "  </thead>\n",
       "  <tbody>\n",
       "    <tr>\n",
       "      <th>0</th>\n",
       "      <td>ham</td>\n",
       "      <td>Go until jurong point, crazy.. Available only ...</td>\n",
       "    </tr>\n",
       "    <tr>\n",
       "      <th>1</th>\n",
       "      <td>ham</td>\n",
       "      <td>Ok lar... Joking wif u oni...</td>\n",
       "    </tr>\n",
       "    <tr>\n",
       "      <th>2</th>\n",
       "      <td>spam</td>\n",
       "      <td>Free entry in 2 a wkly comp to win FA Cup fina...</td>\n",
       "    </tr>\n",
       "    <tr>\n",
       "      <th>3</th>\n",
       "      <td>ham</td>\n",
       "      <td>U dun say so early hor... U c already then say...</td>\n",
       "    </tr>\n",
       "    <tr>\n",
       "      <th>4</th>\n",
       "      <td>ham</td>\n",
       "      <td>Nah I don't think he goes to usf, he lives aro...</td>\n",
       "    </tr>\n",
       "  </tbody>\n",
       "</table>\n",
       "</div>"
      ],
      "text/plain": [
       "  category                                               text\n",
       "0      ham  Go until jurong point, crazy.. Available only ...\n",
       "1      ham                      Ok lar... Joking wif u oni...\n",
       "2     spam  Free entry in 2 a wkly comp to win FA Cup fina...\n",
       "3      ham  U dun say so early hor... U c already then say...\n",
       "4      ham  Nah I don't think he goes to usf, he lives aro..."
      ]
     },
     "execution_count": 1,
     "metadata": {},
     "output_type": "execute_result"
    }
   ],
   "source": [
    "import pandas as pd\n",
    "\n",
    "raw_data = pd.read_csv('./asset/data.txt', sep='\\t')\n",
    "raw_data.head()"
   ]
  },
  {
   "cell_type": "markdown",
   "metadata": {},
   "source": [
    "In order to process the unigram model, we need to tokenize the text first. Similar to L7 notebook, we use the count of  tokens (words) in the SMS as its feature (i.e., bag of word model). And we store the features of each SMS and its category in a `dictionary`. "
   ]
  },
  {
   "cell_type": "code",
   "execution_count": 3,
   "metadata": {
    "collapsed": false
   },
   "outputs": [
    {
     "name": "stdout",
     "output_type": "stream",
     "text": [
      "[({'bugis': 1, 'in': 1, 'la': 1, 'Available': 1, 'amore': 1, 'crazy..': 1, 'n': 1, 'world': 1, 'buffet...': 1, 'great': 1, 'Cine': 1, 'Go': 1, 'point,': 1, 'there': 1, 'until': 1, 'got': 1, 'jurong': 1, 'wat...': 1, 'only': 1, 'e': 1}, 'ham'), ({'oni...': 1, 'u': 1, 'Joking': 1, 'Ok': 1, 'wif': 1, 'lar...': 1}, 'ham'), ({'2005.': 1, \"08452810075over18's\": 1, 'wkly': 1, 'apply': 1, 'to': 3, 'question(std': 1, 'FA': 2, '2': 1, 'comp': 1, 'Text': 1, 'tkts': 1, 'final': 1, 'May': 1, 'in': 1, 'win': 1, 'a': 1, '21st': 1, \"rate)T&C's\": 1, 'receive': 1, 'Free': 1, 'entry': 2, 'txt': 1, '87121': 1, 'Cup': 1}, 'spam'), ({'already': 1, 'U': 2, 'say': 1, 'c': 1, 'say...': 1, 'early': 1, 'dun': 1, 'then': 1, 'hor...': 1, 'so': 1}, 'ham'), ({'he': 2, 'to': 1, 'around': 1, 'though': 1, 'usf,': 1, 'lives': 1, 'think': 1, 'Nah': 1, 'I': 1, 'here': 1, 'goes': 1, \"don't\": 1}, 'ham'), ({'for': 1, 'Hey': 1, \"I'd\": 1, 'word': 1, 'to': 2, 'fun': 1, 'some': 1, 'back!': 1, 'it': 1, 'darling': 1, 'and': 1, 'there': 1, 'been': 1, \"week's\": 1, 'like': 1, 'std': 1, 'rcv': 1, 'chgs': 1, 'you': 1, 'now': 1, 'up': 1, 'still?': 1, 'Tb': 1, \"it's\": 1, 'no': 1, 'FreeMsg': 1, 'ok!': 1, '3': 1, 'XxX': 1, 'send,': 1, '£1.50': 1}, 'spam')]\n"
     ]
    }
   ],
   "source": [
    "def tokenize(sms):\n",
    "    return sms.split(' ')\n",
    "\n",
    "def get_freq_of_tokens(sms):\n",
    "    tokens = {}\n",
    "    for token in tokenize(sms):\n",
    "        if token not in tokens:\n",
    "            tokens[token] = 1\n",
    "        else:\n",
    "            tokens[token] += 1\n",
    "    return tokens\n",
    "\n",
    "training_data = []\n",
    "for index in range(len(raw_data)):\n",
    "    training_data.append((get_freq_of_tokens(raw_data.iloc[index].text), raw_data.iloc[index].category))\n",
    "print(training_data)"
   ]
  },
  {
   "cell_type": "markdown",
   "metadata": {},
   "source": [
    "Now you need to **implement** a multinomial naive bayes classifier (i.e., `multinomial_nb()` in `submission.py`) with add-1 smoothing. The input arguments of `multinomial_nb()` are:\n",
    "* `training_data`: pre-processed data stored as a `dictionary`\n",
    "* `sms`: a list of tokens, which you need to predict whether it is a ham or spam\n",
    "\n",
    "The return value of `multinomial_nb()` is the **ratio** of the probability of sms is spam and the probability of sms is ham (if the returned value larger than 1, means the sms is spam, vice versa).\n",
    "\n",
    "For example, your implemented `multinomial_nb()` should behavior like below:"
   ]
  },
  {
   "cell_type": "code",
   "execution_count": 3,
   "metadata": {
    "collapsed": false,
    "scrolled": true
   },
   "outputs": [
    {
     "name": "stdout",
     "output_type": "stream",
     "text": [
      "0.23427672956\n"
     ]
    }
   ],
   "source": [
    "import submission\n",
    "\n",
    "sms = 'I am not spam'\n",
    "print(submission.multinomial_nb(training_data, tokenize(sms)))"
   ]
  },
  {
   "cell_type": "markdown",
   "metadata": {},
   "source": [
    "# Submission\n",
    "\n",
    "You need to complete the `multinomial_nb()` function in `submission.py`, and submit your code to the online submission system. Similar to the previous labs, you will receive your score in a few minutes.\n",
    "\n",
    "You can submit for unlimited times.\n",
    "\n",
    "# Test Environment\n",
    "\n",
    "We have pre-installed the following modules, you can only use these modules and the built-in modules and functions.\n",
    "* python: 3.5.2\n",
    "* pandas: 0.19.2\n",
    "\n",
    "NOTE: you need to implement the classifier by yourself. Therefore you cannot import sklearn in Lab3."
   ]
  }
 ],
 "metadata": {
  "anaconda-cloud": {},
  "kernelspec": {
   "display_name": "Python [Root]",
   "language": "python",
   "name": "Python [Root]"
  },
  "language_info": {
   "codemirror_mode": {
    "name": "ipython",
    "version": 3
   },
   "file_extension": ".py",
   "mimetype": "text/x-python",
   "name": "python",
   "nbconvert_exporter": "python",
   "pygments_lexer": "ipython3",
   "version": "3.5.2"
  }
 },
 "nbformat": 4,
 "nbformat_minor": 2
}
